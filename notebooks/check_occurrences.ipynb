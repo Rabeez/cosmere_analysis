{
 "cells": [
  {
   "cell_type": "code",
   "execution_count": 7,
   "id": "974a4109",
   "metadata": {},
   "outputs": [],
   "source": [
    "from pathlib import Path\n",
    "\n",
    "import polars as pl"
   ]
  },
  {
   "cell_type": "code",
   "execution_count": 10,
   "id": "ec8fcd49",
   "metadata": {},
   "outputs": [
    {
     "name": "stdout",
     "output_type": "stream",
     "text": [
      "../data/occurences/Warbreaker - Brandon Sanderson.parquet 13998 133\n",
      "../data/occurences/Elantris - Brandon Sanderson.parquet 23472 208\n",
      "../data/occurences/Mistborn_ The Final Empire - Brandon Sanderson.parquet 7981 76\n"
     ]
    }
   ],
   "source": [
    "ll = []\n",
    "for fn in Path(\"../data/occurences/\").glob(\"*.parquet\"):\n",
    "    df = pl.read_parquet(fn)\n",
    "    ll.append(df)\n",
    "    print(fn, len(df), df[\"name\"].n_unique())"
   ]
  },
  {
   "cell_type": "code",
   "execution_count": null,
   "id": "7fa5f1de",
   "metadata": {},
   "outputs": [
    {
     "data": {
      "text/plain": [
       "45451"
      ]
     },
     "execution_count": 12,
     "metadata": {},
     "output_type": "execute_result"
    }
   ],
   "source": [
    "13998 + 23472 + 7981"
   ]
  },
  {
   "cell_type": "code",
   "execution_count": 11,
   "id": "27abc5b5",
   "metadata": {},
   "outputs": [
    {
     "name": "stdout",
     "output_type": "stream",
     "text": [
      "45451 208\n"
     ]
    }
   ],
   "source": [
    "fulldf = pl.concat(ll)\n",
    "print(len(fulldf), fulldf[\"name\"].n_unique())"
   ]
  },
  {
   "cell_type": "code",
   "execution_count": null,
   "id": "dd636228",
   "metadata": {},
   "outputs": [
    {
     "data": {
      "text/html": [
       "<div><style>\n",
       ".dataframe > thead > tr,\n",
       ".dataframe > tbody > tr {\n",
       "  text-align: right;\n",
       "  white-space: pre-wrap;\n",
       "}\n",
       "</style>\n",
       "<small>shape: (0, 2)</small><table border=\"1\" class=\"dataframe\"><thead><tr><th>name</th><th>len</th></tr><tr><td>str</td><td>u32</td></tr></thead><tbody></tbody></table></div>"
      ],
      "text/plain": [
       "shape: (0, 2)\n",
       "┌──────┬─────┐\n",
       "│ name ┆ len │\n",
       "│ ---  ┆ --- │\n",
       "│ str  ┆ u32 │\n",
       "╞══════╪═════╡\n",
       "└──────┴─────┘"
      ]
     },
     "execution_count": 18,
     "metadata": {},
     "output_type": "execute_result"
    }
   ],
   "source": [
    "(fulldf.group_by(\"name\").agg(pl.col(\"series\").n_unique().alias(\"len\")).filter(pl.col(\"len\") > 1))"
   ]
  },
  {
   "cell_type": "code",
   "execution_count": null,
   "id": "d260dcd5",
   "metadata": {},
   "outputs": [
    {
     "data": {
      "text/html": [
       "<div><style>\n",
       ".dataframe > thead > tr,\n",
       ".dataframe > tbody > tr {\n",
       "  text-align: right;\n",
       "  white-space: pre-wrap;\n",
       "}\n",
       "</style>\n",
       "<small>shape: (1_638, 5)</small><table border=\"1\" class=\"dataframe\"><thead><tr><th>_id</th><th>series</th><th>name</th><th>chapter_id</th><th>occurrences</th></tr><tr><td>str</td><td>str</td><td>str</td><td>i64</td><td>u32</td></tr></thead><tbody><tr><td>&quot;elantris_Adien&quot;</td><td>&quot;elantris&quot;</td><td>&quot;Adien&quot;</td><td>5</td><td>6</td></tr><tr><td>&quot;elantris_Adien&quot;</td><td>&quot;elantris&quot;</td><td>&quot;Adien&quot;</td><td>8</td><td>2</td></tr><tr><td>&quot;elantris_Adien&quot;</td><td>&quot;elantris&quot;</td><td>&quot;Adien&quot;</td><td>29</td><td>2</td></tr><tr><td>&quot;elantris_Adien&quot;</td><td>&quot;elantris&quot;</td><td>&quot;Adien&quot;</td><td>58</td><td>1</td></tr><tr><td>&quot;elantris_Adien&quot;</td><td>&quot;elantris&quot;</td><td>&quot;Adien&quot;</td><td>60</td><td>9</td></tr><tr><td>&hellip;</td><td>&hellip;</td><td>&hellip;</td><td>&hellip;</td><td>&hellip;</td></tr><tr><td>&quot;warbreaker_Yarda&quot;</td><td>&quot;warbreaker&quot;</td><td>&quot;Yarda&quot;</td><td>10</td><td>2</td></tr><tr><td>&quot;warbreaker_Yarda&quot;</td><td>&quot;warbreaker&quot;</td><td>&quot;Yarda&quot;</td><td>18</td><td>2</td></tr><tr><td>&quot;warbreaker_Yesteel&quot;</td><td>&quot;warbreaker&quot;</td><td>&quot;Yesteel&quot;</td><td>52</td><td>2</td></tr><tr><td>&quot;warbreaker_Yesteel&quot;</td><td>&quot;warbreaker&quot;</td><td>&quot;Yesteel&quot;</td><td>56</td><td>2</td></tr><tr><td>&quot;warbreaker_Yesteel&quot;</td><td>&quot;warbreaker&quot;</td><td>&quot;Yesteel&quot;</td><td>60</td><td>4</td></tr></tbody></table></div>"
      ],
      "text/plain": [
       "shape: (1_638, 5)\n",
       "┌────────────────────┬────────────┬─────────┬────────────┬─────────────┐\n",
       "│ _id                ┆ series     ┆ name    ┆ chapter_id ┆ occurrences │\n",
       "│ ---                ┆ ---        ┆ ---     ┆ ---        ┆ ---         │\n",
       "│ str                ┆ str        ┆ str     ┆ i64        ┆ u32         │\n",
       "╞════════════════════╪════════════╪═════════╪════════════╪═════════════╡\n",
       "│ elantris_Adien     ┆ elantris   ┆ Adien   ┆ 5          ┆ 6           │\n",
       "│ elantris_Adien     ┆ elantris   ┆ Adien   ┆ 8          ┆ 2           │\n",
       "│ elantris_Adien     ┆ elantris   ┆ Adien   ┆ 29         ┆ 2           │\n",
       "│ elantris_Adien     ┆ elantris   ┆ Adien   ┆ 58         ┆ 1           │\n",
       "│ elantris_Adien     ┆ elantris   ┆ Adien   ┆ 60         ┆ 9           │\n",
       "│ …                  ┆ …          ┆ …       ┆ …          ┆ …           │\n",
       "│ warbreaker_Yarda   ┆ warbreaker ┆ Yarda   ┆ 10         ┆ 2           │\n",
       "│ warbreaker_Yarda   ┆ warbreaker ┆ Yarda   ┆ 18         ┆ 2           │\n",
       "│ warbreaker_Yesteel ┆ warbreaker ┆ Yesteel ┆ 52         ┆ 2           │\n",
       "│ warbreaker_Yesteel ┆ warbreaker ┆ Yesteel ┆ 56         ┆ 2           │\n",
       "│ warbreaker_Yesteel ┆ warbreaker ┆ Yesteel ┆ 60         ┆ 4           │\n",
       "└────────────────────┴────────────┴─────────┴────────────┴─────────────┘"
      ]
     },
     "execution_count": 23,
     "metadata": {},
     "output_type": "execute_result"
    }
   ],
   "source": [
    "(\n",
    "    fulldf.with_columns(\n",
    "        _id=pl.concat_str(\"series\", \"name\", separator=\"_\"),\n",
    "    )\n",
    "    .group_by(\"_id\", \"series\", \"name\")\n",
    "    .agg(pl.len().alias(\"occurrences\"))\n",
    "    .sort(\"_id\", \"series\", \"name\")\n",
    ")"
   ]
  }
 ],
 "metadata": {
  "kernelspec": {
   "display_name": "default",
   "language": "python",
   "name": "python3"
  },
  "language_info": {
   "codemirror_mode": {
    "name": "ipython",
    "version": 3
   },
   "file_extension": ".py",
   "mimetype": "text/x-python",
   "name": "python",
   "nbconvert_exporter": "python",
   "pygments_lexer": "ipython3",
   "version": "3.12.10"
  }
 },
 "nbformat": 4,
 "nbformat_minor": 5
}
