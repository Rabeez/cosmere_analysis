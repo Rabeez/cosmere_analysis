{
 "cells": [
  {
   "cell_type": "code",
   "execution_count": 1,
   "id": "974a4109",
   "metadata": {},
   "outputs": [],
   "source": [
    "from pathlib import Path\n",
    "\n",
    "import polars as pl"
   ]
  },
  {
   "cell_type": "code",
   "execution_count": 7,
   "id": "ec8fcd49",
   "metadata": {},
   "outputs": [],
   "source": [
    "ll = []\n",
    "for fn in Path(\"../data/cooccurence/\").glob(\"*.parquet\"):\n",
    "    df = pl.read_parquet(fn)\n",
    "    ll.append(df)\n",
    "    # print(fn, len(df), df[\"name\"].n_unique())"
   ]
  },
  {
   "cell_type": "code",
   "execution_count": null,
   "id": "b9007d00",
   "metadata": {},
   "outputs": [
    {
     "data": {
      "text/html": [
       "<div><style>\n",
       ".dataframe > thead > tr,\n",
       ".dataframe > tbody > tr {\n",
       "  text-align: right;\n",
       "  white-space: pre-wrap;\n",
       "}\n",
       "</style>\n",
       "<small>shape: (1_373, 4)</small><table border=\"1\" class=\"dataframe\"><thead><tr><th>series</th><th>source</th><th>target</th><th>weight</th></tr><tr><td>str</td><td>str</td><td>str</td><td>u32</td></tr></thead><tbody><tr><td>&quot;warbreaker&quot;</td><td>&quot;warbreaker_Llarimar&quot;</td><td>&quot;warbreaker_Nightblood&quot;</td><td>6</td></tr><tr><td>&quot;warbreaker&quot;</td><td>&quot;warbreaker_Sisirinah&quot;</td><td>&quot;warbreaker_Stillmark&quot;</td><td>2</td></tr><tr><td>&quot;mistborn&quot;</td><td>&quot;mistborn_Demoux&quot;</td><td>&quot;mistborn_Yeden&quot;</td><td>2</td></tr><tr><td>&quot;mistborn&quot;</td><td>&quot;mistborn_Kevoux&quot;</td><td>&quot;mistborn_Sazed&quot;</td><td>1</td></tr><tr><td>&quot;mistborn&quot;</td><td>&quot;mistborn_Rene&quot;</td><td>&quot;mistborn_Tyden&quot;</td><td>1</td></tr><tr><td>&hellip;</td><td>&hellip;</td><td>&hellip;</td><td>&hellip;</td></tr><tr><td>&quot;mistborn&quot;</td><td>&quot;mistborn_Marsh&quot;</td><td>&quot;mistborn_Rashek&quot;</td><td>8</td></tr><tr><td>&quot;mistborn&quot;</td><td>&quot;mistborn_Flavine&quot;</td><td>&quot;mistborn_Spook&quot;</td><td>1</td></tr><tr><td>&quot;mistborn&quot;</td><td>&quot;mistborn_Kelsier&quot;</td><td>&quot;mistborn_Redalevin&quot;</td><td>1</td></tr><tr><td>&quot;warbreaker&quot;</td><td>&quot;warbreaker_Havarseth&quot;</td><td>&quot;warbreaker_Lifeblesser&quot;</td><td>1</td></tr><tr><td>&quot;mistborn&quot;</td><td>&quot;mistborn_Demoux&quot;</td><td>&quot;mistborn_Mennis&quot;</td><td>1</td></tr></tbody></table></div>"
      ],
      "text/plain": [
       "shape: (1_373, 4)\n",
       "┌────────────┬──────────────────────┬────────────────────────┬────────┐\n",
       "│ series     ┆ source               ┆ target                 ┆ weight │\n",
       "│ ---        ┆ ---                  ┆ ---                    ┆ ---    │\n",
       "│ str        ┆ str                  ┆ str                    ┆ u32    │\n",
       "╞════════════╪══════════════════════╪════════════════════════╪════════╡\n",
       "│ warbreaker ┆ warbreaker_Llarimar  ┆ warbreaker_Nightblood  ┆ 6      │\n",
       "│ warbreaker ┆ warbreaker_Sisirinah ┆ warbreaker_Stillmark   ┆ 2      │\n",
       "│ mistborn   ┆ mistborn_Demoux      ┆ mistborn_Yeden         ┆ 2      │\n",
       "│ mistborn   ┆ mistborn_Kevoux      ┆ mistborn_Sazed         ┆ 1      │\n",
       "│ mistborn   ┆ mistborn_Rene        ┆ mistborn_Tyden         ┆ 1      │\n",
       "│ …          ┆ …                    ┆ …                      ┆ …      │\n",
       "│ mistborn   ┆ mistborn_Marsh       ┆ mistborn_Rashek        ┆ 8      │\n",
       "│ mistborn   ┆ mistborn_Flavine     ┆ mistborn_Spook         ┆ 1      │\n",
       "│ mistborn   ┆ mistborn_Kelsier     ┆ mistborn_Redalevin     ┆ 1      │\n",
       "│ warbreaker ┆ warbreaker_Havarseth ┆ warbreaker_Lifeblesser ┆ 1      │\n",
       "│ mistborn   ┆ mistborn_Demoux      ┆ mistborn_Mennis        ┆ 1      │\n",
       "└────────────┴──────────────────────┴────────────────────────┴────────┘"
      ]
     },
     "execution_count": 25,
     "metadata": {},
     "output_type": "execute_result"
    }
   ],
   "source": [
    "ll[0].with_columns(\n",
    "    pl.concat_str(pl.col(\"series\"), pl.col(\"char1\"), separator=\"_\").alias(\"source\"),\n",
    "    pl.concat_str(pl.col(\"series\"), pl.col(\"char2\"), separator=\"_\").alias(\"target\"),\n",
    ").group_by(\"series\", \"source\", \"target\").agg(pl.len().alias(\"weight\")).filter(\n",
    "    pl.col(\"source\") != pl.col(\"target\"),\n",
    ")"
   ]
  },
  {
   "cell_type": "code",
   "execution_count": 18,
   "id": "27252bf7",
   "metadata": {},
   "outputs": [
    {
     "data": {
      "text/html": [
       "<div><style>\n",
       ".dataframe > thead > tr,\n",
       ".dataframe > tbody > tr {\n",
       "  text-align: right;\n",
       "  white-space: pre-wrap;\n",
       "}\n",
       "</style>\n",
       "<small>shape: (0, 4)</small><table border=\"1\" class=\"dataframe\"><thead><tr><th>chapter_id</th><th>char1</th><th>char2</th><th>len</th></tr><tr><td>i64</td><td>str</td><td>str</td><td>u32</td></tr></thead><tbody></tbody></table></div>"
      ],
      "text/plain": [
       "shape: (0, 4)\n",
       "┌────────────┬───────┬───────┬─────┐\n",
       "│ chapter_id ┆ char1 ┆ char2 ┆ len │\n",
       "│ ---        ┆ ---   ┆ ---   ┆ --- │\n",
       "│ i64        ┆ str   ┆ str   ┆ u32 │\n",
       "╞════════════╪═══════╪═══════╪═════╡\n",
       "└────────────┴───────┴───────┴─────┘"
      ]
     },
     "execution_count": 18,
     "metadata": {},
     "output_type": "execute_result"
    }
   ],
   "source": [
    "ll[0].group_by(\"chapter_id\", \"char1\", \"char2\").len().filter(pl.col(\"len\") > 1)"
   ]
  },
  {
   "cell_type": "code",
   "execution_count": 19,
   "id": "92e9f0de",
   "metadata": {},
   "outputs": [
    {
     "data": {
      "text/html": [
       "<div><style>\n",
       ".dataframe > thead > tr,\n",
       ".dataframe > tbody > tr {\n",
       "  text-align: right;\n",
       "  white-space: pre-wrap;\n",
       "}\n",
       "</style>\n",
       "<small>shape: (1_373, 3)</small><table border=\"1\" class=\"dataframe\"><thead><tr><th>char1</th><th>char2</th><th>len</th></tr><tr><td>str</td><td>str</td><td>u32</td></tr></thead><tbody><tr><td>&quot;Kar&quot;</td><td>&quot;Pull&quot;</td><td>2</td></tr><tr><td>&quot;Parlin&quot;</td><td>&quot;Shashara&quot;</td><td>1</td></tr><tr><td>&quot;Mirthgiver&quot;</td><td>&quot;Sisirinah&quot;</td><td>1</td></tr><tr><td>&quot;Milev&quot;</td><td>&quot;Vin&quot;</td><td>3</td></tr><tr><td>&quot;Dockson&quot;</td><td>&quot;Tase&quot;</td><td>1</td></tr><tr><td>&hellip;</td><td>&hellip;</td><td>&hellip;</td></tr><tr><td>&quot;Allmother&quot;</td><td>&quot;Llarimar&quot;</td><td>5</td></tr><tr><td>&quot;Gendren&quot;</td><td>&quot;Treledees&quot;</td><td>1</td></tr><tr><td>&quot;Cladent&quot;</td><td>&quot;Disten&quot;</td><td>1</td></tr><tr><td>&quot;Shum&quot;</td><td>&quot;Tepper&quot;</td><td>1</td></tr><tr><td>&quot;Camon&quot;</td><td>&quot;Ruddy&quot;</td><td>1</td></tr></tbody></table></div>"
      ],
      "text/plain": [
       "shape: (1_373, 3)\n",
       "┌────────────┬───────────┬─────┐\n",
       "│ char1      ┆ char2     ┆ len │\n",
       "│ ---        ┆ ---       ┆ --- │\n",
       "│ str        ┆ str       ┆ u32 │\n",
       "╞════════════╪═══════════╪═════╡\n",
       "│ Kar        ┆ Pull      ┆ 2   │\n",
       "│ Parlin     ┆ Shashara  ┆ 1   │\n",
       "│ Mirthgiver ┆ Sisirinah ┆ 1   │\n",
       "│ Milev      ┆ Vin       ┆ 3   │\n",
       "│ Dockson    ┆ Tase      ┆ 1   │\n",
       "│ …          ┆ …         ┆ …   │\n",
       "│ Allmother  ┆ Llarimar  ┆ 5   │\n",
       "│ Gendren    ┆ Treledees ┆ 1   │\n",
       "│ Cladent    ┆ Disten    ┆ 1   │\n",
       "│ Shum       ┆ Tepper    ┆ 1   │\n",
       "│ Camon      ┆ Ruddy     ┆ 1   │\n",
       "└────────────┴───────────┴─────┘"
      ]
     },
     "execution_count": 19,
     "metadata": {},
     "output_type": "execute_result"
    }
   ],
   "source": [
    "ll[0].group_by(\"char1\", \"char2\").len()"
   ]
  },
  {
   "cell_type": "code",
   "execution_count": null,
   "id": "7fa5f1de",
   "metadata": {},
   "outputs": [
    {
     "data": {
      "text/plain": [
       "45451"
      ]
     },
     "execution_count": 12,
     "metadata": {},
     "output_type": "execute_result"
    }
   ],
   "source": [
    "13998 + 23472 + 7981"
   ]
  },
  {
   "cell_type": "code",
   "execution_count": 11,
   "id": "27abc5b5",
   "metadata": {},
   "outputs": [
    {
     "name": "stdout",
     "output_type": "stream",
     "text": [
      "45451 208\n"
     ]
    }
   ],
   "source": [
    "fulldf = pl.concat(ll)\n",
    "print(len(fulldf), fulldf[\"name\"].n_unique())"
   ]
  },
  {
   "cell_type": "code",
   "execution_count": null,
   "id": "dd636228",
   "metadata": {},
   "outputs": [
    {
     "data": {
      "text/html": [
       "<div><style>\n",
       ".dataframe > thead > tr,\n",
       ".dataframe > tbody > tr {\n",
       "  text-align: right;\n",
       "  white-space: pre-wrap;\n",
       "}\n",
       "</style>\n",
       "<small>shape: (0, 2)</small><table border=\"1\" class=\"dataframe\"><thead><tr><th>name</th><th>len</th></tr><tr><td>str</td><td>u32</td></tr></thead><tbody></tbody></table></div>"
      ],
      "text/plain": [
       "shape: (0, 2)\n",
       "┌──────┬─────┐\n",
       "│ name ┆ len │\n",
       "│ ---  ┆ --- │\n",
       "│ str  ┆ u32 │\n",
       "╞══════╪═════╡\n",
       "└──────┴─────┘"
      ]
     },
     "execution_count": 18,
     "metadata": {},
     "output_type": "execute_result"
    }
   ],
   "source": [
    "(fulldf.group_by(\"name\").agg(pl.col(\"series\").n_unique().alias(\"len\")).filter(pl.col(\"len\") > 1))"
   ]
  },
  {
   "cell_type": "code",
   "execution_count": null,
   "id": "d260dcd5",
   "metadata": {},
   "outputs": [],
   "source": []
  }
 ],
 "metadata": {
  "kernelspec": {
   "display_name": "default",
   "language": "python",
   "name": "python3"
  },
  "language_info": {
   "codemirror_mode": {
    "name": "ipython",
    "version": 3
   },
   "file_extension": ".py",
   "mimetype": "text/x-python",
   "name": "python",
   "nbconvert_exporter": "python",
   "pygments_lexer": "ipython3",
   "version": "3.12.10"
  }
 },
 "nbformat": 4,
 "nbformat_minor": 5
}
